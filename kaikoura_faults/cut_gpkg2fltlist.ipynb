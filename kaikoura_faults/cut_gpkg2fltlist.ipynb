{
 "cells": [
  {
   "cell_type": "code",
   "execution_count": 91,
   "metadata": {
    "collapsed": true
   },
   "outputs": [],
   "source": [
    "import os\n",
    "import numpy as np\n",
    "import pandas as pd\n",
    "import geopandas as gpd\n",
    "import difflib\n",
    "from shapely.geometry import LineString"
   ]
  },
  {
   "cell_type": "code",
   "execution_count": 96,
   "outputs": [],
   "source": [
    "cat_name=\"hopeconway\"\n",
    "model_dir=os.path.join(r\"Z:\\Penney\\leapfrog_cfm\\kaikoura_faults\\Changes_from_base\",cat_name)"
   ],
   "metadata": {
    "collapsed": false
   }
  },
  {
   "cell_type": "code",
   "execution_count": 97,
   "outputs": [],
   "source": [
    "edited_geo=gpd.read_file(os.path.join(model_dir,\"qgis\",f\"{cat_name}.gpkg\"))\n",
    "with open(os.path.join(model_dir,'faults2include.txt')) as f_in:\n",
    "    faultlist=[line.strip() for line in f_in]"
   ],
   "metadata": {
    "collapsed": false
   }
  },
  {
   "cell_type": "code",
   "execution_count": 98,
   "outputs": [],
   "source": [
    "corrected_fault_names=[]\n",
    "for name in edited_geo[\"Name\"]:\n",
    "    faultname=difflib.get_close_matches(name,faultlist,n=1,cutoff=0.9)\n",
    "    if len(faultname)>0:\n",
    "        corrected_fault_names.append(name)\n",
    "\n",
    "fault_subset=edited_geo.loc[edited_geo[\"Name\"].isin(corrected_fault_names)]"
   ],
   "metadata": {
    "collapsed": false
   }
  },
  {
   "cell_type": "code",
   "execution_count": 99,
   "outputs": [],
   "source": [
    "#write out new gpkg\n",
    "fault_subset.to_file(os.path.join(model_dir,\"qgis\",f\"{cat_name}_subset.gpkg\"),driver=\"GPKG\")"
   ],
   "metadata": {
    "collapsed": false
   }
  },
  {
   "cell_type": "code",
   "execution_count": null,
   "outputs": [],
   "source": [],
   "metadata": {
    "collapsed": false
   }
  }
 ],
 "metadata": {
  "kernelspec": {
   "display_name": "Python 3",
   "language": "python",
   "name": "python3"
  },
  "language_info": {
   "codemirror_mode": {
    "name": "ipython",
    "version": 2
   },
   "file_extension": ".py",
   "mimetype": "text/x-python",
   "name": "python",
   "nbconvert_exporter": "python",
   "pygments_lexer": "ipython2",
   "version": "2.7.6"
  }
 },
 "nbformat": 4,
 "nbformat_minor": 0
}
