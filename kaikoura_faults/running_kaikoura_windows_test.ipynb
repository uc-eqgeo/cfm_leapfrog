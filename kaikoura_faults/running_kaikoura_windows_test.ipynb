{
 "cells": [
  {
   "cell_type": "code",
   "execution_count": null,
   "metadata": {
    "collapsed": true
   },
   "outputs": [],
   "source": []
  },
  {
   "cell_type": "code",
   "execution_count": 1,
   "outputs": [
    {
     "name": "stdout",
     "output_type": "stream",
     "text": [
      "Connection: Acheron and Clarence Central\n",
      "Connection: Acheron and Elliott\n",
      "Connection: Akatarawa and Moonshine\n",
      "Connection: Akatarawa and Otaki Forks 1\n",
      "Connection: Akatarawa and Wellington Hutt Valley 4\n",
      "Connection: Akatarawa and Wellington Hutt Valley 5\n",
      "Connection: Alpine Jacksons to Kaniere and Alpine Kaniere to Springs Junction\n",
      "Connection: Alpine Jacksons to Kaniere and Kelly\n",
      "Connection: Alpine Kaniere to Springs Junction and Alpine Jacksons to Kaniere\n",
      "Connection: Alpine Kaniere to Springs Junction and Alpine Springs Junction to Tophouse\n",
      "Connection: Alpine Kaniere to Springs Junction and Awatere Southwest\n",
      "Connection: Alpine Kaniere to Springs Junction and Fowlers\n",
      "Connection: Alpine Kaniere to Springs Junction and Hope Taramakau\n",
      "Connection: Alpine Kaniere to Springs Junction and Kelly\n",
      "Connection: Alpine Springs Junction to Tophouse and Alpine Kaniere to Springs Junction\n",
      "Connection: Alpine Springs Junction to Tophouse and Awatere Southwest\n",
      "Connection: Alpine Springs Junction to Tophouse and Wairau\n",
      "Connection: Alpine Springs Junction to Tophouse and Whangamoa\n",
      "Connection: Awatere Northeast 1 and Awatere Northeast 2\n",
      "Connection: Awatere Northeast 1 and Awatere Southwest\n",
      "Connection: Awatere Northeast 1 and Barefell\n",
      "Connection: Awatere Northeast 1 and Vernon 1\n",
      "Connection: Awatere Northeast 2 and Awatere Northeast 1\n",
      "Connection: Awatere Northeast 2 and Vernon 1\n",
      "Connection: Awatere Northeast 2 and Vernon 3\n",
      "Connection: Awatere Northeast 2 and Vernon 4\n",
      "Connection: Awatere Southwest and Alpine Kaniere to Springs Junction\n",
      "Connection: Awatere Southwest and Alpine Springs Junction to Tophouse\n",
      "Connection: Awatere Southwest and Awatere Northeast 1\n",
      "Connection: Awatere Southwest and Shingle Peak\n",
      "Connection: Barefell and Awatere Northeast 1\n",
      "Connection: Barefell and Clarence Central\n",
      "Connection: BooBoo and Campbell Bank\n",
      "Connection: Browning Pass and Kelly\n",
      "Connection: Campbell Bank and BooBoo\n",
      "Connection: Campbell Bank and Chancet\n",
      "Connection: Chancet and Campbell Bank\n",
      "Connection: Chancet and Wharanui\n",
      "Connection: Clarence Central and Acheron\n",
      "Connection: Clarence Central and Barefell\n",
      "Connection: Clarence Central and Clarence Northeast\n",
      "Connection: Clarence Central and Clarence Southwest\n",
      "Connection: Clarence Central and Dillon\n",
      "Connection: Clarence Central and Elliott\n",
      "Connection: Clarence Northeast and Clarence Central\n",
      "Connection: Clarence Northeast and Elliott\n",
      "Connection: Clarence Southwest and Clarence Central\n",
      "Connection: Clarence Southwest and Elliott\n",
      "Connection: Cloudy 1 and Cloudy 2\n",
      "Connection: Cloudy 1 and Vernon 2\n",
      "Connection: Cloudy 1 and Vernon 3\n",
      "Connection: Cloudy 2 and Cloudy 1\n",
      "Connection: Cloudy 2 and Cloudy 3\n",
      "Connection: Cloudy 3 and Cloudy 2\n",
      "Connection: Dillon and Clarence Central\n",
      "Connection: Dillon and Elliott\n",
      "Connection: Dry River - Huangarua 2 and Dry River - Huangarua 3\n",
      "Connection: Dry River - Huangarua 3 and Dry River - Huangarua 2\n",
      "Connection: Elliott and Acheron\n",
      "Connection: Elliott and Clarence Central\n",
      "Connection: Elliott and Clarence Northeast\n",
      "Connection: Elliott and Clarence Southwest\n",
      "Connection: Elliott and Dillon\n",
      "Connection: Fidget and Jordan\n",
      "Connection: Fidget and Kekerengu 1\n",
      "Connection: Fidget and Papatea\n",
      "Connection: Fisherman 1 and Fisherman 2\n",
      "Connection: Fisherman 2 and Fisherman 1\n",
      "Connection: Flaxmore - Waimea - Tahunanui and Waimea Offshore\n",
      "Connection: Fowlers and Alpine Kaniere to Springs Junction\n",
      "Connection: Gibbs and Ohariu\n",
      "Connection: Hanmer and Hope Conway\n",
      "Connection: Hanmer and Hope Hanmer NW\n",
      "Connection: Hanmer and Hope Hanmer SE\n",
      "Connection: Honeycomb Ridge and Pukeroro Ridge\n",
      "Connection: Hope Conway and Hanmer\n",
      "Connection: Hope Conway and Hope Hanmer SE\n",
      "Connection: Hope Conway and Hope Seaward\n",
      "Connection: Hope Conway and Jordan\n",
      "Connection: Hope Hanmer NW and Hanmer\n",
      "Connection: Hope Hanmer NW and Hope Hanmer SW\n",
      "Connection: Hope Hanmer NW and Hope Kakapo-2-Hamner\n",
      "Connection: Hope Hanmer SE and Hanmer\n",
      "Connection: Hope Hanmer SE and Hope Conway\n",
      "Connection: Hope Hanmer SE and Hope Hanmer SW\n",
      "Connection: Hope Hanmer SW and Hope Hanmer NW\n",
      "Connection: Hope Hanmer SW and Hope Hanmer SE\n",
      "Connection: Hope Hanmer SW and Hope Kakapo-2-Hamner\n",
      "Connection: Hope Hope River and Hope Hurunui\n",
      "Connection: Hope Hope River and Hope Kakapo-2-Hamner\n",
      "Connection: Hope Hope River and Kakapo\n",
      "Connection: Hope Hurunui and Hope Hope River\n",
      "Connection: Hope Hurunui and Hope Taramakau\n",
      "Connection: Hope Hurunui and Kakapo\n",
      "Connection: Hope Hurunui and Kelly\n",
      "Connection: Hope Kakapo-2-Hamner and Hope Hanmer NW\n",
      "Connection: Hope Kakapo-2-Hamner and Hope Hanmer SW\n",
      "Connection: Hope Kakapo-2-Hamner and Hope Hope River\n",
      "Connection: Hope Kakapo-2-Hamner and Kakapo\n",
      "Connection: Hope Seaward and Hope Conway\n",
      "Connection: Hope Seaward and Jordan\n",
      "Connection: Hope Seaward and Papatea\n",
      "Connection: Hope Taramakau and Alpine Kaniere to Springs Junction\n",
      "Connection: Hope Taramakau and Hope Hurunui\n",
      "Connection: Hope Taramakau and Kelly\n",
      "Connection: Hope Te Rapa and Te Rapa 1\n",
      "Connection: Jordan and Fidget\n",
      "Connection: Jordan and Hope Conway\n",
      "Connection: Jordan and Hope Seaward\n",
      "Connection: Jordan and Kekerengu 1\n",
      "Connection: Jordan and Kowhai\n",
      "Connection: Jordan and Papatea\n",
      "Connection: Jordan and Upper Kowhai - Manakau\n",
      "Connection: Kaikoura 2 and Offshore Splay Thrust\n",
      "Connection: Kakapo and Hope Hope River\n",
      "Connection: Kakapo and Hope Hurunui\n",
      "Connection: Kakapo and Hope Kakapo-2-Hamner\n",
      "Connection: Kekerengu 1 and Fidget\n",
      "Connection: Kekerengu 1 and Jordan\n",
      "Connection: Kekerengu 1 and London Hill\n",
      "Connection: Kekerengu 1 and Needles\n",
      "Connection: Kekerengu 1 and Papatea\n",
      "Connection: Kekerengu Bank and Pahaua\n",
      "Connection: Kekerengu Bank and Pahaua SE1\n",
      "Connection: Kelly and Alpine Jacksons to Kaniere\n",
      "Connection: Kelly and Alpine Kaniere to Springs Junction\n",
      "Connection: Kelly and Browning Pass\n",
      "Connection: Kelly and Hope Hurunui\n",
      "Connection: Kelly and Hope Taramakau\n",
      "Connection: Kowhai and Jordan\n",
      "Connection: Kowhai and Upper Kowhai - Manakau\n",
      "Connection: Leader Central and Leader North\n",
      "Connection: Leader Central and Leader South\n",
      "Connection: Leader North and Leader Central\n",
      "Connection: Leader South and Leader Central\n",
      "Connection: London Hill and Kekerengu 1\n",
      "Connection: London Hill and Needles\n",
      "Connection: Moonshine and Akatarawa\n",
      "Connection: Moonshine and Otaki Forks 1\n",
      "Connection: Motunau and North Canterbury Shelf 11\n",
      "Connection: Needles and Kekerengu 1\n",
      "Connection: Needles and London Hill\n",
      "Connection: North Canterbury Shelf 11 and Motunau\n",
      "Connection: Offshore Splay Thrust and Kaikoura 2\n",
      "Connection: Ohariu and Gibbs\n",
      "Connection: Ohariu and Ohariu South 2\n",
      "Connection: Ohariu South 1 and Ohariu South 2\n",
      "Connection: Ohariu South 2 and Ohariu\n",
      "Connection: Ohariu South 2 and Ohariu South 1\n",
      "Connection: Otaheke South and Shepherds Gully - Mana\n",
      "Connection: Otaki Forks 1 and Akatarawa\n",
      "Connection: Otaki Forks 1 and Moonshine\n",
      "Connection: Pahaua and Kekerengu Bank\n",
      "Connection: Pahaua and Pahaua SE1\n",
      "Connection: Pahaua SE1 and Kekerengu Bank\n",
      "Connection: Pahaua SE1 and Pahaua\n",
      "Connection: Papatea and Fidget\n",
      "Connection: Papatea and Hope Seaward\n",
      "Connection: Papatea and Jordan\n",
      "Connection: Papatea and Kekerengu 1\n",
      "Connection: Pukeroro Ridge and Honeycomb Ridge\n",
      "Connection: Pukerua - Shepherds Gully 1 and Pukerua - Shepherds Gully 2\n",
      "Connection: Pukerua - Shepherds Gully 1 and Shepherds Gully - Mana\n",
      "Connection: Pukerua - Shepherds Gully 2 and Pukerua - Shepherds Gully 1\n",
      "Connection: Pukerua - Shepherds Gully 2 and Pukerua - Shepherds Gully 3\n",
      "Connection: Pukerua - Shepherds Gully 3 and Pukerua - Shepherds Gully 2\n",
      "Connection: Shepherds Gully - Mana and Otaheke South\n",
      "Connection: Shepherds Gully - Mana and Pukerua - Shepherds Gully 1\n",
      "Connection: Shingle Peak and Awatere Southwest\n",
      "Connection: Te Rapa 1 and Hope Te Rapa\n",
      "Connection: Te Rapa 1 and Te Rapa 2\n",
      "Connection: Te Rapa 2 and Te Rapa 1\n",
      "Connection: Upper Kowhai - Manakau and Jordan\n",
      "Connection: Upper Kowhai - Manakau and Kowhai\n",
      "Connection: Vernon 1 and Awatere Northeast 1\n",
      "Connection: Vernon 1 and Awatere Northeast 2\n",
      "Connection: Vernon 1 and Vernon 2\n",
      "Connection: Vernon 2 and Cloudy 1\n",
      "Connection: Vernon 2 and Vernon 1\n",
      "Connection: Vernon 2 and Vernon 3\n",
      "Connection: Vernon 3 and Awatere Northeast 2\n",
      "Connection: Vernon 3 and Cloudy 1\n",
      "Connection: Vernon 3 and Vernon 2\n",
      "Connection: Vernon 3 and Vernon 4\n",
      "Connection: Vernon 4 and Awatere Northeast 2\n",
      "Connection: Vernon 4 and Vernon 3\n",
      "Connection: Waimea Offshore and Flaxmore - Waimea - Tahunanui\n",
      "Connection: Wairarapa 1 and Wairarapa 2\n",
      "Connection: Wairarapa 1 and Wairarapa Needles\n",
      "Connection: Wairarapa 2 and Wairarapa 1\n",
      "Connection: Wairarapa Needles and Wairarapa 1\n",
      "Connection: Wairau and Alpine Springs Junction to Tophouse\n",
      "Connection: Wairau and Wairau 2\n",
      "Connection: Wairau and Whangamoa\n",
      "Connection: Wairau 2 and Wairau\n",
      "Connection: Wairau 2 and Wairau 3\n",
      "Connection: Wairau 3 and Wairau 2\n",
      "Connection: Wellington Hutt Valley 1 and Wellington Hutt Valley 2\n",
      "Connection: Wellington Hutt Valley 2 and Wellington Hutt Valley 1\n",
      "Connection: Wellington Hutt Valley 2 and Wellington Hutt Valley 3\n",
      "Connection: Wellington Hutt Valley 3 and Wellington Hutt Valley 2\n",
      "Connection: Wellington Hutt Valley 3 and Wellington Hutt Valley 4\n",
      "Connection: Wellington Hutt Valley 4 and Akatarawa\n",
      "Connection: Wellington Hutt Valley 4 and Wellington Hutt Valley 3\n",
      "Connection: Wellington Hutt Valley 4 and Wellington Hutt Valley 5\n",
      "Connection: Wellington Hutt Valley 5 and Akatarawa\n",
      "Connection: Wellington Hutt Valley 5 and Wellington Hutt Valley 4\n",
      "Connection: Whangamoa and Alpine Springs Junction to Tophouse\n",
      "Connection: Whangamoa and Wairau\n",
      "Connection: Wharanui and Chancet\n",
      "Found 210 connections\n",
      "Found 168 connections between segment ends\n"
     ]
    }
   ],
   "source": [
    "import os.path\n",
    "\n",
    "import geopandas as gpd\n",
    "from matplotlib import pyplot as plt\n",
    "import numpy as np\n",
    "\n",
    "from fault_mesh.faults.leapfrog import LeapfrogMultiFault\n",
    "from fault_mesh.faults.connected import ConnectedFaultSystem\n",
    "from fault_mesh.utilities.graph import connected_nodes\n",
    "\n",
    "#read in faults\n",
    "# note D90 is the seismogenic thickness, whereas Dfc is the theoretical maximum rupture depth (see p. 30 of the CFM report)\n",
    "# warnings about expected fields because of changes in naming conventions of CFM - should be fine\n",
    "script_dir=os.path.abspath(\".\")\n",
    "data = LeapfrogMultiFault.from_nz_cfm_shp(\"Z:\\Penney\\leapfrog_cfm\\kaikoura_faults\\cfm_cut.gpkg\", remove_colons=True,\n",
    "                                        exclude_zero=False, depth_type=\"Dfc\", exclude_aus=False)\n",
    "\n",
    "# suggest faults to combine (these need editing in csv)\n",
    "data.find_connections()\n",
    "major_faults = connected_nodes(data.neighbour_connections)\n",
    "data.suggest_fault_systems(out_prefix=os.path.join(script_dir,\"faults_in_windows\",\"kaikoura\"))\n",
    "#read in edited faults\n",
    "data.read_fault_systems(fault_system_csv=os.path.join(script_dir,\"faults_in_windows\",\"kaikoura_suggested_faults_edited_cfm_v3.csv\"),tol=400.)\n",
    "\n",
    "data.generate_curated_faults()\n",
    "\n",
    "data.suggest_cutting_hierarchy(os.path.join(script_dir,\"faults_in_windows\",\"kaikoura\"))\n",
    "\n",
    "data.read_cutting_hierarchy(os.path.join(script_dir,\"faults_in_windows\",\"kaikoura_hierarchy151222.csv\"))"
   ],
   "metadata": {
    "collapsed": false
   }
  },
  {
   "cell_type": "code",
   "execution_count": 2,
   "outputs": [],
   "source": [
    "for dir_name in [\"shps\", \"traces\", \"end_lines\", \"footprints\"]:\n",
    "    if not os.path.exists(os.path.join(script_dir,\"faults_in_windows\",dir_name)):\n",
    "        os.mkdir(os.path.join(script_dir,\"faults_in_windows\",dir_name))\n"
   ],
   "metadata": {
    "collapsed": false
   }
  },
  {
   "cell_type": "code",
   "execution_count": null,
   "outputs": [],
   "source": [
    "plt.close(\"all\")\n",
    "fig, ax = plt.subplots()\n",
    "for fault in data.curated_faults:\n",
    "    print(fault.name)\n",
    "\n",
    "\n",
    "    fault.generate_depth_contours(np.arange(2000, 32000., 2000.))\n",
    "    fault.contours =fault.contours.loc[~fault.contours.geometry.is_empty]\n",
    "    fault.contours.to_file(os.path.join(script_dir,\"faults_in_windows\",f\"shps/{fault.name}_contours.shp\"))\n",
    "    trace = gpd.GeoSeries(fault.smoothed_trace)\n",
    "\n",
    "    trace.plot(ax=ax)\n",
    "    fault.generate_depth_contours(np.arange(2000, 32000., 2000.))\n",
    "    fault.contours.plot(ax=ax)\n",
    "\n",
    "    gpd.GeoSeries(fault.smoothed_trace).to_file(os.path.join(script_dir,\"faults_in_windows\",f\"traces/{fault.name}_trace.shp\"))\n",
    "    if isinstance(fault, ConnectedFaultSystem):\n",
    "        print(\"connected\")\n",
    "        gpd.GeoSeries(fault.end_lines(smoothed=True)).to_file(os.path.join(script_dir,\"faults_in_windows\",f\"end_lines/{fault.name}_end_lines.shp\"))"
   ],
   "metadata": {
    "collapsed": false
   }
  },
  {
   "cell_type": "code",
   "execution_count": 3,
   "outputs": [],
   "source": [
    "f1=data.curated_faults[15]\n",
    "f2=data.curated_faults[13]"
   ],
   "metadata": {
    "collapsed": false
   }
  },
  {
   "cell_type": "code",
   "execution_count": 4,
   "outputs": [
    {
     "data": {
      "text/plain": "'Acheron'"
     },
     "execution_count": 4,
     "metadata": {},
     "output_type": "execute_result"
    }
   ],
   "source": [
    "f1.name"
   ],
   "metadata": {
    "collapsed": false
   }
  },
  {
   "cell_type": "code",
   "execution_count": 5,
   "outputs": [],
   "source": [
    "f1.generate_depth_contours(np.arange(2000, 32000., 2000.))"
   ],
   "metadata": {
    "collapsed": false
   }
  },
  {
   "cell_type": "code",
   "execution_count": 1,
   "outputs": [
    {
     "ename": "NameError",
     "evalue": "name 'f1' is not defined",
     "output_type": "error",
     "traceback": [
      "\u001B[1;31m---------------------------------------------------------------------------\u001B[0m",
      "\u001B[1;31mNameError\u001B[0m                                 Traceback (most recent call last)",
      "Cell \u001B[1;32mIn[1], line 1\u001B[0m\n\u001B[1;32m----> 1\u001B[0m \u001B[38;5;28mhasattr\u001B[39m(\u001B[43mf1\u001B[49m,\u001B[38;5;124m'\u001B[39m\u001B[38;5;124mcontours\u001B[39m\u001B[38;5;124m'\u001B[39m)\n",
      "\u001B[1;31mNameError\u001B[0m: name 'f1' is not defined"
     ]
    }
   ],
   "source": [
    "hasattr(f1,'contours')"
   ],
   "metadata": {
    "collapsed": false
   }
  },
  {
   "cell_type": "code",
   "execution_count": null,
   "outputs": [],
   "source": [
    "f1.contours=f1.contours.loc[np.invert(f1.contours.geometry.is_empty)]\n",
    "f1.contours.to_file(os.path.join(script_dir,\"faults_in_windows\",f\"shps/{f1.name}_contours.shp\"))"
   ],
   "metadata": {
    "collapsed": false
   }
  },
  {
   "cell_type": "code",
   "execution_count": null,
   "outputs": [],
   "source": [
    "[geom.coords for geom in fault.contours.geometry[0]]\n"
   ],
   "metadata": {
    "collapsed": false
   }
  },
  {
   "cell_type": "code",
   "execution_count": null,
   "outputs": [],
   "source": [],
   "metadata": {
    "collapsed": false
   }
  }
 ],
 "metadata": {
  "kernelspec": {
   "display_name": "Python 3",
   "language": "python",
   "name": "python3"
  },
  "language_info": {
   "codemirror_mode": {
    "name": "ipython",
    "version": 2
   },
   "file_extension": ".py",
   "mimetype": "text/x-python",
   "name": "python",
   "nbconvert_exporter": "python",
   "pygments_lexer": "ipython2",
   "version": "2.7.6"
  }
 },
 "nbformat": 4,
 "nbformat_minor": 0
}
