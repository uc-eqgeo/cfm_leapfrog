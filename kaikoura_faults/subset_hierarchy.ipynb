{
 "cells": [
  {
   "cell_type": "markdown",
   "source": [
    "Match up a subset of the hierarchy list to the original hierachy list and write out in order.\n",
    "Add faults which aren't featured in the original hierarchy at the end (so will still need to edit afterwards)"
   ],
   "metadata": {
    "collapsed": false
   }
  },
  {
   "cell_type": "code",
   "execution_count": 23,
   "outputs": [],
   "source": [
    "import os"
   ],
   "metadata": {
    "collapsed": false
   }
  },
  {
   "cell_type": "code",
   "execution_count": 24,
   "outputs": [],
   "source": [
    "og_hierarchy=r\"Z:\\Penney\\leapfrog_cfm\\kaikoura_faults\\Changes_from_base\\Base_scenario\\kaikoura_new_base_hierarchy151222_nonzero.csv\"\n",
    "outdir=r\"Z:\\Penney\\leapfrog_cfm\\kaikoura_faults\\Changes_from_base\\better_jkn\"\n",
    "case_name=\"better_jkn\"\n",
    "new_hierarchy=os.path.join(outdir,f\"{case_name}_hierarchy.csv\")"
   ],
   "metadata": {
    "collapsed": false
   }
  },
  {
   "cell_type": "code",
   "execution_count": 25,
   "outputs": [],
   "source": [
    "# make list of desired subset of faults\n",
    "with open(new_hierarchy,'r') as fin:\n",
    "    new_faults=[line[:-1] for line in fin]\n",
    "\n",
    "#make dictionary of og hierarchy\n",
    "og_order_dict={}\n",
    "with open(og_hierarchy,'r') as fin:\n",
    "    for i,line in enumerate(fin):\n",
    "        og_order_dict[line.strip()]=i\n"
   ],
   "metadata": {
    "collapsed": false
   }
  },
  {
   "cell_type": "code",
   "execution_count": 31,
   "outputs": [],
   "source": [
    "# make a new dictionary of faults and their hierarchy numbers\n",
    "new_order_dict={}\n",
    "for i,fault in enumerate(new_faults):\n",
    "    if fault in og_order_dict.keys():\n",
    "        new_order_dict[fault]=og_order_dict[fault]\n",
    "    else:\n",
    "        new_order_dict[fault]=len(og_hierarchy)+i"
   ],
   "metadata": {
    "collapsed": false
   }
  },
  {
   "cell_type": "code",
   "execution_count": 32,
   "outputs": [],
   "source": [
    "#sort by the hierarchy position\n",
    "sorted_new_fault_list=[combo[0] for combo in sorted(new_order_dict.items(),key=lambda x:x[1])]"
   ],
   "metadata": {
    "collapsed": false
   }
  },
  {
   "cell_type": "code",
   "execution_count": 33,
   "outputs": [],
   "source": [
    "#write out\n",
    "with open(os.path.join(outdir,f\"{case_name}_hierarchy_sorted.csv\"),'w') as f_out:\n",
    "    [f_out.write(f\"{fault}\\n\") for fault in sorted_new_fault_list]"
   ],
   "metadata": {
    "collapsed": false
   }
  },
  {
   "cell_type": "code",
   "execution_count": 34,
   "outputs": [
    {
     "data": {
      "text/plain": "['Alpine combined',\n 'Offshore Splay Thrust',\n 'Hope  combined',\n 'BooBoo',\n 'Fidget',\n 'Papatea',\n 'Kaikoura - Mangamaunu',\n 'Needles East 2',\n 'London Hill',\n 'Kowhai',\n 'Kekerengu Needles combined',\n 'Jordan combined',\n 'Jordan South',\n 'Hope Seaward']"
     },
     "execution_count": 34,
     "metadata": {},
     "output_type": "execute_result"
    }
   ],
   "source": [
    "sorted_new_fault_list"
   ],
   "metadata": {
    "collapsed": false
   }
  },
  {
   "cell_type": "code",
   "execution_count": 35,
   "outputs": [
    {
     "data": {
      "text/plain": "{'Alpine combined': 0,\n 'Kekerengu Needles combined': 117,\n 'Jordan combined': 118,\n 'Hope  combined': 2,\n 'BooBoo': 17,\n 'Jordan South': 121,\n 'Hope Seaward': 122,\n 'Kaikoura - Mangamaunu': 52,\n 'Kowhai': 110,\n 'Fidget': 30,\n 'Offshore Splay Thrust': 1,\n 'Papatea': 36,\n 'Needles East 2': 78,\n 'London Hill': 91}"
     },
     "execution_count": 35,
     "metadata": {},
     "output_type": "execute_result"
    }
   ],
   "source": [
    "new_order_dict"
   ],
   "metadata": {
    "collapsed": false
   }
  },
  {
   "cell_type": "code",
   "execution_count": null,
   "outputs": [],
   "source": [],
   "metadata": {
    "collapsed": false
   }
  }
 ],
 "metadata": {
  "kernelspec": {
   "display_name": "Python 3",
   "language": "python",
   "name": "python3"
  },
  "language_info": {
   "codemirror_mode": {
    "name": "ipython",
    "version": 2
   },
   "file_extension": ".py",
   "mimetype": "text/x-python",
   "name": "python",
   "nbconvert_exporter": "python",
   "pygments_lexer": "ipython2",
   "version": "2.7.6"
  }
 },
 "nbformat": 4,
 "nbformat_minor": 0
}
