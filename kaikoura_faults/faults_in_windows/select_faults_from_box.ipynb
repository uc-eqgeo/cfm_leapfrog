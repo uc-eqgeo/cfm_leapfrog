{
 "cells": [
  {
   "cell_type": "markdown",
   "source": [
    "Select faults from CFM which are wholly or partly in a box specified in NZTM"
   ],
   "metadata": {
    "collapsed": false
   }
  },
  {
   "cell_type": "code",
   "execution_count": 1,
   "outputs": [],
   "source": [
    "#import modules\n",
    "import os\n",
    "import numpy as np\n",
    "import pandas as pd\n",
    "import geopandas as gpd\n",
    "from matplotlib import pyplot as plt\n",
    "from shapely.geometry import Polygon,LineString,MultiLineString\n",
    "\n",
    "script_dir=os.path.abspath('')"
   ],
   "metadata": {
    "collapsed": false
   }
  },
  {
   "cell_type": "code",
   "execution_count": 8,
   "outputs": [],
   "source": [
    "# import shapefile of box bounding area of interest\n",
    "boxFile=gpd.read_file(os.path.join(script_dir,\"qgis_files\",\"local_box.shp\"))\n",
    "box=Polygon(boxFile['geometry'].iloc[0])"
   ],
   "metadata": {
    "collapsed": false
   }
  },
  {
   "cell_type": "code",
   "execution_count": 9,
   "outputs": [],
   "source": [
    "# import faults to trim\n",
    "cfm=gpd.read_file(os.path.join(script_dir,\"qgis_files\",\"cfm_cut_nonzero.gpkg\"))\n",
    "cfm.to_crs(epsg=2193,inplace=True)"
   ],
   "metadata": {
    "collapsed": false
   }
  },
  {
   "cell_type": "code",
   "execution_count": 10,
   "outputs": [],
   "source": [
    "cfm_cut=cfm[cfm.intersects(box)]"
   ],
   "metadata": {
    "collapsed": false
   }
  },
  {
   "cell_type": "code",
   "execution_count": 11,
   "outputs": [],
   "source": [
    "cfm_cut.to_file(os.path.join(script_dir,\"qgis_files/cfm_cut_local.gpkg\"),driver='GPKG')"
   ],
   "metadata": {
    "collapsed": false
   }
  },
  {
   "cell_type": "code",
   "execution_count": 10,
   "outputs": [],
   "source": [],
   "metadata": {
    "collapsed": false
   }
  },
  {
   "cell_type": "code",
   "execution_count": 10,
   "outputs": [],
   "source": [],
   "metadata": {
    "collapsed": false
   }
  }
 ],
 "metadata": {
  "kernelspec": {
   "display_name": "Python 3",
   "language": "python",
   "name": "python3"
  },
  "language_info": {
   "codemirror_mode": {
    "name": "ipython",
    "version": 2
   },
   "file_extension": ".py",
   "mimetype": "text/x-python",
   "name": "python",
   "nbconvert_exporter": "python",
   "pygments_lexer": "ipython2",
   "version": "2.7.6"
  }
 },
 "nbformat": 4,
 "nbformat_minor": 0
}
