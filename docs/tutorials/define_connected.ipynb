{
 "cells": [
  {
   "cell_type": "markdown",
   "id": "1b73d491",
   "metadata": {},
   "source": [
    "# Defining connected fault systems\n",
    "This notebook demonstrates how to identify which fault segments in a shapefile should be connected up into large fault systems.\n",
    "## Reading in faults\n",
    "First, you need to read in your GIS representation of faults. In this example, we use a subset of faults from the New Zealand Community Fault Model (Seebeck et al., 2022)."
   ]
  },
  {
   "cell_type": "code",
   "execution_count": 6,
   "id": "f42e46ec",
   "metadata": {
    "ExecuteTime": {
     "end_time": "2024-09-09T01:07:24.614124Z",
     "start_time": "2024-09-09T01:07:23.042426Z"
    }
   },
   "outputs": [
    {
     "name": "stderr",
     "output_type": "stream",
     "text": [
      "missing expected field\n"
     ]
    },
    {
     "name": "stdout",
     "output_type": "stream",
     "text": [
      "Warning: missing expected field: (Depth_D90)\n"
     ]
    }
   ],
   "source": [
    "# Import modules \n",
    "from fault_mesh.faults.leapfrog import LeapfrogMultiFault\n",
    "import os\n",
    "import numpy as np\n",
    "import geopandas as gpd\n",
    "\n",
    "# Set coordinate system (optional) EPSG code\n",
    "# If not desired, set to None\n",
    "epsg = 2193\n",
    "# Read in fault data from shapefile\n",
    "fault_data = LeapfrogMultiFault.from_nz_cfm_shp(\"tutorial_gis/central_nz_gt1_5_1km.shp\", remove_colons=True, epsg=epsg, smoothing_n=None)\n"
   ]
  },
  {
   "cell_type": "markdown",
   "id": "378a9de8",
   "metadata": {},
   "source": [
    "## Finding connections between segments\n",
    "Now your data are read in, you need to set the distance tolerance. This tolerance is the minimum horizontal distance between two fault traces that is allowed to count as a connection."
   ]
  },
  {
   "cell_type": "code",
   "execution_count": 7,
   "id": "7b431aa1",
   "metadata": {
    "ExecuteTime": {
     "end_time": "2024-09-09T01:07:48.543281Z",
     "start_time": "2024-09-09T01:07:48.526226Z"
    }
   },
   "outputs": [],
   "source": [
    "dist_tolerance = 200."
   ]
  },
  {
   "cell_type": "markdown",
   "id": "19368c9706a69c29",
   "metadata": {
    "collapsed": false,
    "jupyter": {
     "outputs_hidden": false
    }
   },
   "source": [
    "The next cell uses python module networkx to find segment traces that are within the specified distance tolerance of each other."
   ]
  },
  {
   "cell_type": "code",
   "execution_count": 8,
   "id": "f340fb5c4614aeb3",
   "metadata": {
    "ExecuteTime": {
     "end_time": "2024-09-09T01:08:00.064130Z",
     "start_time": "2024-09-09T01:07:51.363530Z"
    },
    "collapsed": false,
    "jupyter": {
     "outputs_hidden": false
    }
   },
   "outputs": [
    {
     "name": "stdout",
     "output_type": "stream",
     "text": [
      "Found 156 connections\n",
      "Found 142 connections between segment ends\n"
     ]
    }
   ],
   "source": [
    "fault_data.find_connections(verbose=False)"
   ]
  },
  {
   "cell_type": "markdown",
   "id": "24712f1125de10cc",
   "metadata": {
    "collapsed": false,
    "jupyter": {
     "outputs_hidden": false
    }
   },
   "source": [
    "It is now necessary to write out these connections for manual editing and review. The file will be written out into the same directory as this Jupyter notebook. It will have a prefix supplied by you and the suffix \"_suggested.csv\"."
   ]
  },
  {
   "cell_type": "code",
   "execution_count": 9,
   "id": "352706d562d17779",
   "metadata": {
    "ExecuteTime": {
     "end_time": "2024-09-09T01:08:04.520751Z",
     "start_time": "2024-09-09T01:08:04.502764Z"
    },
    "collapsed": false,
    "jupyter": {
     "outputs_hidden": false
    }
   },
   "outputs": [],
   "source": [
    "fault_data.suggest_fault_systems(\"central_gt1_5_connected\")"
   ]
  },
  {
   "cell_type": "markdown",
   "id": "436a99ce9f4fd8a8",
   "metadata": {
    "collapsed": false,
    "jupyter": {
     "outputs_hidden": false
    }
   },
   "source": [
    "This will create a CSV file that looks like this:\n",
    "\n",
    "![unedited_connected](./tutorial_images/connected_unedited.png)\n",
    "\n",
    "The name of the combined fault system is in the first column, and names of the faults that make up the connected system are in subsequent columns.\n",
    "\n",
    "## Making and incorporating manual edits\n",
    "The automatically-generated fault system suggestions will (by design) include hyper-connected fault systems that need to be broken up. At this stage, the best way to break up these networks into smaller fault systems is to do it manually by editing the CSV file. An example below shows a new line added to the CSV representing the Hope Fault system -- The Hope Fault is grouped with the Alpine and Kekerengu-Needles fault systems in the automatically-generated connections CSV. **Make sure you save this new file with a different name to avoid overwriting it!**\n",
    "\n",
    "![edited_connected](./tutorial_images/connected_edited.png)\n",
    "\n",
    "Once you have made the necessary edits, read your new CSV to overwite the automatically-generated connected fault systems:"
   ]
  },
  {
   "cell_type": "code",
   "execution_count": 11,
   "id": "7a7e1102cf1a2c2d",
   "metadata": {
    "ExecuteTime": {
     "end_time": "2024-09-09T01:10:18.583252Z",
     "start_time": "2024-09-09T01:08:14.602099Z"
    },
    "collapsed": false,
    "jupyter": {
     "outputs_hidden": false
    }
   },
   "outputs": [],
   "source": [
    "fault_data.read_fault_systems(\"./define_connections_data/central_gt1_5_connected_edited.csv\")\n",
    "fault_data.generate_curated_faults()"
   ]
  },
  {
   "cell_type": "markdown",
   "id": "ea20f06737828931",
   "metadata": {
    "collapsed": false,
    "jupyter": {
     "outputs_hidden": false
    }
   },
   "source": [
    "# Defining a cutting hierarchy\n",
    "Now you have defined your fault system (which you will later use to create meshes), it is necessary to specify which faults terminate against other faults. For example, it seems highly likely that the western end of the Hope Fault is truncated at depth by the Alpine fault. This complex mesh cutting is best achieved using dedicated software such as leapfrog (see below), but for cutting to be done automatically, it is best to first specify a *cutting hierarchy*.\n",
    "## Suggesting a hierarchy based on slip rate\n",
    "A first pass at a hierarchy can be generated based purely on fault slip rate. Assuming that the fault data you have already read in have slip rates associated with them, this first pass is easy to make:\n"
   ]
  },
  {
   "cell_type": "code",
   "execution_count": 12,
   "id": "8aa91cf663cf7172",
   "metadata": {
    "collapsed": false,
    "jupyter": {
     "outputs_hidden": false
    }
   },
   "outputs": [],
   "source": [
    "fault_data.suggest_cutting_hierarchy(\"central_gt1_5_hierarchy\")"
   ]
  },
  {
   "cell_type": "markdown",
   "id": "3a3a0a0ecc14a0ad",
   "metadata": {
    "collapsed": false,
    "jupyter": {
     "outputs_hidden": false
    }
   },
   "source": [
    "This operation simply orders the faults (or fault systems) in your model in descending order of slip rate. For connected fault systems that have segments with different slip rates, the maximum slip rate of any segment in that fault system is used to place the fault system in the cutting hierarchy.\n",
    "\n",
    "## Editing the cutting hierarchy\n",
    "\n",
    "You can then edit this hierarchy by switching the order of lines in the file. For any pair of faults/systems that intersect, the fault closer to the bottom of the file will terminate against the fault closer to the top of the list.\n",
    "An example of a situation where editing is desirable is illustrated below. The maximum slip rate of the Jordan-Kekerengu-Needles Fault System (23 mm/yr) is faster than the corresponding maximum for the Hope Fault (15.8 mm/yr), but we wish to create a fault model where the Jordan Fault terminates against the Hope Fault. We effect this termination by moving `Hope combined` above `Jordan - Kek - Needles combined` in the CSV file. For similar reasons, we move the `Hanmer` Fault above `Hope Hanmer NW`.\n",
    "\n",
    "![Adjust hierarchy](./tutorial_images/reorder_hierarchy.png)\n",
    "\n",
    "We read in this new hierarchy as follows:\n"
   ]
  },
  {
   "cell_type": "code",
   "execution_count": 13,
   "id": "504ea2826059a9a0",
   "metadata": {
    "collapsed": false,
    "jupyter": {
     "outputs_hidden": false
    }
   },
   "outputs": [],
   "source": [
    "fault_data.read_cutting_hierarchy(\"./define_connections_data/central_gt1_5_hierarchy_edited.csv\")"
   ]
  },
  {
   "cell_type": "markdown",
   "id": "43dc18e38058d9fe",
   "metadata": {
    "collapsed": false,
    "jupyter": {
     "outputs_hidden": false
    }
   },
   "source": [
    "# Create shapefiles for mesh creation\n",
    "The final pre-meshing step is the creation of files that can be combined with meshing software to create triangular mesh representations of faults.\n",
    "Although it is possible to construct these triangular surfaces in multiple software packages (for example, MOVE 3D), the following discussion is geared towards use with Leapfrog Geo software.\n",
    "\n",
    "## Create directories to hold shapefiles\n",
    "For organisational reasons, it helps to have the different shapefiles in different directories"
   ]
  },
  {
   "cell_type": "code",
   "execution_count": 14,
   "id": "dd1885097c3687f4",
   "metadata": {
    "collapsed": false,
    "jupyter": {
     "outputs_hidden": false
    }
   },
   "outputs": [],
   "source": [
    "for dir_name in [\"depth_contours\", \"traces\", \"footprints\"]:\n",
    "    if not os.path.exists(dir_name):\n",
    "        os.mkdir(dir_name)"
   ]
  },
  {
   "cell_type": "markdown",
   "id": "40775920ce78d301",
   "metadata": {
    "collapsed": false,
    "jupyter": {
     "outputs_hidden": false
    }
   },
   "source": [
    "## Write out shapefiles\n"
   ]
  },
  {
   "cell_type": "code",
   "execution_count": 15,
   "id": "6d74561b6ae9388",
   "metadata": {
    "collapsed": false,
    "jupyter": {
     "outputs_hidden": false
    },
    "pycharm": {
     "is_executing": true
    }
   },
   "outputs": [],
   "source": [
    "for fault in fault_data.curated_faults:\n",
    "    # Generate depth contours\n",
    "    fault.generate_depth_contours(np.arange(2000, 32000., 2000.), smoothing=False)\n",
    "    # Write contours to files\n",
    "    fault.contours.to_file(f\"depth_contours/{fault.name}_contours.shp\")\n",
    "    # Write traces\n",
    "    fault.nztm_trace_geoseries.to_file(f\"traces/{fault.name}_trace.shp\")\n",
    "\n",
    "# Write fault footprints\n",
    "for fault in reversed(fault_data.curated_faults):\n",
    "    fault.adjust_footprint()\n",
    "    fault.footprint_geoseries.to_file(f\"footprints/{fault.name}_footprint.shp\")"
   ]
  },
  {
   "cell_type": "code",
   "execution_count": null,
   "id": "a6f2ce1f-8d29-407b-8f67-63bd03669d6e",
   "metadata": {},
   "outputs": [],
   "source": []
  }
 ],
 "metadata": {
  "kernelspec": {
   "display_name": "Python 3 (ipykernel)",
   "language": "python",
   "name": "python3"
  },
  "language_info": {
   "codemirror_mode": {
    "name": "ipython",
    "version": 3
   },
   "file_extension": ".py",
   "mimetype": "text/x-python",
   "name": "python",
   "nbconvert_exporter": "python",
   "pygments_lexer": "ipython3",
   "version": "3.10.15"
  }
 },
 "nbformat": 4,
 "nbformat_minor": 5
}
