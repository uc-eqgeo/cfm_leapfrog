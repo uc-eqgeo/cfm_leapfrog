{
 "cells": [
  {
   "cell_type": "markdown",
   "id": "1b73d491",
   "metadata": {},
   "source": [
    "# Defining connected fault systems\n",
    "This notebook demonstrates how to identify which fault segments in a shapefile should be connected up into large fault systems.\n",
    "## Reading in faults\n",
    "First, you need to read in your GIS representation of faults. In this example, we use a subset of faults from the New Zealand Community Fault Model (Seebeck et al., 2022)."
   ]
  },
  {
   "cell_type": "code",
   "execution_count": 1,
   "id": "f42e46ec",
   "metadata": {},
   "outputs": [
    {
     "name": "stderr",
     "output_type": "stream",
     "text": [
      "missing expected field\n"
     ]
    },
    {
     "name": "stdout",
     "output_type": "stream",
     "text": [
      "Warning: missing expected field: (Depth_D90)\n"
     ]
    }
   ],
   "source": [
    "# Import modules \n",
    "from fault_mesh.faults.leapfrog import LeapfrogMultiFault\n",
    "from fault_mesh.faults.connected import ConnectedFaultSystem\n",
    "from fault_mesh.utilities.graph import connected_nodes\n",
    "\n",
    "# Read in fault data from shapefile\n",
    "fault_data = LeapfrogMultiFault.from_nz_cfm_shp(\"tutorial_gis/cfm_gt_1_5.gpkg\", remove_colons=True)"
   ]
  },
  {
   "cell_type": "markdown",
   "id": "378a9de8",
   "metadata": {},
   "source": [
    "## Finding connections between segments\n",
    "Now your data are read in, you need to set the distance tolerance. This tolerance is the minimum horizontal distance between two fault traces that is allowed to count as a connection."
   ]
  },
  {
   "cell_type": "code",
   "execution_count": 2,
   "id": "7b431aa1",
   "metadata": {},
   "outputs": [],
   "source": [
    "dist_tolerance = 200."
   ]
  },
  {
   "cell_type": "markdown",
   "source": [
    "The next cell uses python module networkx to find segment traces that are within the specified distance tolerance of each other."
   ],
   "metadata": {
    "collapsed": false
   }
  },
  {
   "cell_type": "code",
   "execution_count": 5,
   "outputs": [
    {
     "name": "stdout",
     "output_type": "stream",
     "text": [
      "Found 156 connections\n",
      "Found 142 neighbour connections\n"
     ]
    }
   ],
   "source": [
    "fault_data.find_connections(verbose=False)"
   ],
   "metadata": {
    "collapsed": false
   }
  },
  {
   "cell_type": "markdown",
   "source": [
    "It is now necessary to write out these connections for manual editing and review. The file will be written out into the same directory as this Jupyter notebook. It will have a prefix supplied by you and the suffix \"_suggested.csv\"."
   ],
   "metadata": {
    "collapsed": false
   }
  },
  {
   "cell_type": "code",
   "execution_count": 4,
   "outputs": [],
   "source": [
    "fault_data.suggest_fault_systems(\"central_gt1_5_connected_\")"
   ],
   "metadata": {
    "collapsed": false
   }
  },
  {
   "cell_type": "markdown",
   "source": [
    "This will create a CSV file that looks like this (test):\n",
    "\n",
    "## Making and incorporating manual edits\n",
    "The automatically-generated fault system suggestions will (by design) include hyper-connected fault systems that need to be broken up."
   ],
   "metadata": {
    "collapsed": false
   }
  },
  {
   "cell_type": "code",
   "execution_count": null,
   "outputs": [],
   "source": [],
   "metadata": {
    "collapsed": false
   }
  }
 ],
 "metadata": {
  "kernelspec": {
   "display_name": "Python 3 (ipykernel)",
   "language": "python",
   "name": "python3"
  },
  "language_info": {
   "codemirror_mode": {
    "name": "ipython",
    "version": 3
   },
   "file_extension": ".py",
   "mimetype": "text/x-python",
   "name": "python",
   "nbconvert_exporter": "python",
   "pygments_lexer": "ipython3",
   "version": "3.10.6"
  }
 },
 "nbformat": 4,
 "nbformat_minor": 5
}
