{
 "cells": [
  {
   "metadata": {},
   "cell_type": "raw",
   "source": "",
   "id": "b6e7b15873c7617b"
  },
  {
   "metadata": {},
   "cell_type": "markdown",
   "source": [
    "# 接続された断層システムの定義\n",
    "このノートブックは、シェープファイル内のどの断層セグメントが大きな断層システムに接続されるべきかを識別する方法を示しています。\n",
    "\n",
    "まず、関連するモジュールをインポートします\n",
    "\n"
   ],
   "id": "33c1e90306943cc7"
  },
  {
   "metadata": {
    "ExecuteTime": {
     "end_time": "2025-03-07T01:47:00.793732Z",
     "start_time": "2025-03-07T01:46:59.877212Z"
    }
   },
   "cell_type": "code",
   "source": [
    "# モジュールのインポート\n",
    "from fault_mesh.faults.leapfrog import LeapfrogMultiFault\n",
    "import os\n",
    "import numpy as np\n",
    "import geopandas as gpd"
   ],
   "id": "d6f660033e54393b",
   "outputs": [],
   "execution_count": 1
  },
  {
   "metadata": {},
   "cell_type": "markdown",
   "source": [
    "## 有用なパラメータの設定\n",
    "ここで設定する価値のあるいくつかのパラメータがあります：\n",
    "1. EPSGコードによる座標系（ニュージーランドの場合は2193）--- これはオプションですが、GISソフトウェアで等高線を視覚化したい場合に便利です。\n",
    "2. 深度等高線をクリッピングするためのトリミング勾配（$\\alpha_{trim}$）--- Howell et al.（レビュー中）のセクション3.3を参照\n",
    "3. $\\Theta_{change}$を計算するための傾斜乗数とストライク乗数--- Howell et al.（レビュー中）のセクション3.3を参照"
   ],
   "id": "2dc784af8fbeec5f"
  },
  {
   "metadata": {
    "ExecuteTime": {
     "end_time": "2025-03-07T01:47:00.808861Z",
     "start_time": "2025-03-07T01:47:00.795734Z"
    }
   },
   "cell_type": "code",
   "source": [
    "# 座標系の設定（オプション）EPSGコード\n",
    "# 必要ない場合はNoneに設定\n",
    "epsg = 2193\n",
    "\n",
    "# マルチセグメント断層の深度等高線をトリミングするためのトリミング勾配（アルファ）およびストライクとディップの乗数\n",
    "trimming_gradient = 1.\n",
    "dip_multiplier = 1.\n",
    "strike_multiplier = 0.5"
   ],
   "id": "7bb81abf9febbb1a",
   "outputs": [],
   "execution_count": 2
  },
  {
   "metadata": {},
   "cell_type": "markdown",
   "source": [
    "## 断層の読み込み\n",
    "まず、断層のGIS表現を読み込む必要があります。この例では、ニュージーランドコミュニティ断層モデル（Seebeck et al., 2022）の断層のサブセットを使用します。"
   ],
   "id": "73a52ba4d0626cff"
  },
  {
   "metadata": {
    "ExecuteTime": {
     "end_time": "2025-03-07T01:47:01.806530Z",
     "start_time": "2025-03-07T01:47:01.472781Z"
    }
   },
   "cell_type": "code",
   "source": [
    "# シェープファイルから断層データを読み込む\n",
    "fault_data = LeapfrogMultiFault.from_shp(\"tutorial_gis/central_nz_minimal_data.shp\", remove_colons=True, epsg=epsg, trimming_gradient=trimming_gradient,\n",
    "                                        dip_multiplier=dip_multiplier, strike_multiplier=strike_multiplier)"
   ],
   "id": "6f8dccb2d0955a5c",
   "outputs": [
    {
     "name": "stderr",
     "output_type": "stream",
     "text": [
      "C:\\Users\\arh128\\.conda\\envs\\leapfrog-fault-models\\lib\\site-packages\\pyogrio\\core.py:35: RuntimeWarning: Could not detect GDAL data files.  Set GDAL_DATA environment variable to the correct path.\n",
      "  _init_gdal_data()\n"
     ]
    }
   ],
   "execution_count": 3
  },
  {
   "metadata": {},
   "cell_type": "markdown",
   "source": [
    "## セグメント間の接続を見つける\n",
    "データが読み込まれたら、距離許容値を設定する必要があります。この許容値は、接続としてカウントされる2つの断層トレース間の最小水平距離です。"
   ],
   "id": "a4a7f5de44b72540"
  },
  {
   "metadata": {
    "ExecuteTime": {
     "end_time": "2025-03-07T01:47:15.206971Z",
     "start_time": "2025-03-07T01:47:15.198653Z"
    }
   },
   "cell_type": "code",
   "source": "dist_tolerance = 200.",
   "id": "b446cd2171247c9b",
   "outputs": [],
   "execution_count": 4
  },
  {
   "metadata": {},
   "cell_type": "markdown",
   "source": "次のセルは、指定された距離許容値内にあるセグメントトレースを見つけるためにpythonモジュールnetworkxを使用します。",
   "id": "ac39e169c690390c"
  },
  {
   "metadata": {
    "ExecuteTime": {
     "end_time": "2025-03-07T01:47:19.439259Z",
     "start_time": "2025-03-07T01:47:19.285390Z"
    }
   },
   "cell_type": "code",
   "source": "fault_data.find_connections(verbose=False)",
   "id": "28f59a94267db097",
   "outputs": [
    {
     "name": "stdout",
     "output_type": "stream",
     "text": [
      "Found 156 connections\n",
      "Found 142 connections between segment ends\n"
     ]
    }
   ],
   "execution_count": 5
  },
  {
   "metadata": {},
   "cell_type": "markdown",
   "source": "これらの接続を手動で編集およびレビューするために書き出す必要があります。ファイルはこのJupyterノートブックと同じディレクトリに書き出されます。接頭辞はあなたが指定し、接尾辞は\"_suggested.csv\"です。",
   "id": "e5b0b8d89dbdc496"
  },
  {
   "metadata": {
    "ExecuteTime": {
     "end_time": "2025-03-07T01:47:23.592597Z",
     "start_time": "2025-03-07T01:47:23.581459Z"
    }
   },
   "cell_type": "code",
   "source": "fault_data.suggest_fault_systems(\"central_gt1_5_connected\")",
   "id": "c5e4ddd93764fd68",
   "outputs": [],
   "execution_count": 6
  },
  {
   "metadata": {},
   "cell_type": "markdown",
   "source": [
    "これにより、次のようなCSVファイルが作成されます：\n",
    "\n",
    "![unedited_connected](./tutorial_images/connected_unedited.png)\n",
    "\n",
    "結合された断層システムの名前は最初の列にあり、接続されたシステムを構成する断層の名前は後続の列にあります。\n",
    "\n",
    "## 手動編集の実施と組み込み\n",
    "自動生成された断層システムの提案には（設計上）分割する必要がある過剰に接続された断層システムが含まれます。この段階では、これらのネットワークを小さな断層システムに分割する最良の方法は、CSVファイルを手動で編集することです。以下の例は、Hope Faultシステムを表す新しい行をCSVに追加したものです -- Hope Faultは自動生成された接続CSVでAlpineおよびKekerengu-Needles断層システムとグループ化されています。**この新しいファイルを保存する際には、上書きしないように異なる名前で保存してください！**\n",
    "\n",
    "![edited_connected](./tutorial_images/connected_edited.png)\n",
    "\n",
    "必要な編集を行ったら、新しいCSVを読み込んで自動生成された接続断層システムを上書きします："
   ],
   "id": "119d3a66bbb9ec01"
  },
  {
   "metadata": {
    "ExecuteTime": {
     "end_time": "2025-03-07T01:47:25.453606Z",
     "start_time": "2025-03-07T01:47:25.362066Z"
    }
   },
   "cell_type": "code",
   "source": [
    "fault_data.read_fault_systems(\"./define_connections_data/central_gt1_5_connected_edited.csv\")\n",
    "fault_data.generate_curated_faults()"
   ],
   "id": "4db89f05369ea7bf",
   "outputs": [],
   "execution_count": 7
  },
  {
   "metadata": {},
   "cell_type": "markdown",
   "source": [
    "# 切断階層の定義\n",
    "断層システムを定義したら（後でメッシュを作成するために使用します）、他の断層に対してどの断層が終了するかを指定する必要があります。例えば、Hope Faultの西端が深さでAlpine Faultによって切断される可能性が高いようです。この複雑なメッシュ切断は、leapfrogなどの専用ソフトウェアを使用して最も効果的に行われますが、自動的に切断を行うためには、最初に*切断階層*を指定するのが最善です。\n",
    "## すべり速度に基づく階層の提案\n",
    "階層の最初のパスは、断層のすべり速度に基づいて純粋に生成できます。既に読み込んだ断層データにすべり速度が関連付けられていると仮定すると、この最初のパスは簡単に行えます：\n"
   ],
   "id": "410b9d2d29fce278"
  },
  {
   "metadata": {
    "ExecuteTime": {
     "end_time": "2025-03-07T01:47:30.219635Z",
     "start_time": "2025-03-07T01:47:30.192887Z"
    }
   },
   "cell_type": "code",
   "source": "fault_data.suggest_cutting_hierarchy(\"central_gt1_5_hierarchy\")",
   "id": "a5beb17690333e8",
   "outputs": [],
   "execution_count": 8
  },
  {
   "metadata": {},
   "cell_type": "markdown",
   "source": [
    "この操作は、モデル内の断層（または断層システム）をすべり速度の降順に並べ替えるだけです。異なるすべり速度を持つセグメントを持つ接続された断層システムの場合、その断層システム内の任意のセグメントの最大すべり速度が使用され、切断階層に断層システムが配置されます。\n",
    "\n",
    "## 切断階層の編集\n",
    "\n",
    "次に、ファイル内の行の順序を切り替えることでこの階層を編集できます。交差する断層/システムのペアについては、ファイルの下部に近い断層が上部に近い断層に対して終了します。\n",
    "編集が望ましい状況の例を以下に示します。Jordan-Kekerengu-Needles Fault Systemの最大すべり速度（23 mm/yr）はHope Faultの対応する最大値（15.8 mm/yr）よりも速いですが、Jordan FaultがHope Faultに対して終了する断層モデルを作成したいと考えています。この終了を実現するために、CSVファイル内で`Hope combined`を`Jordan - Kek - Needles combined`の上に移動します。同様の理由で、`Hanmer` Faultを`Hope Hanmer NW`の上に移動します。\n",
    "\n",
    "![Adjust hierarchy](./tutorial_images/reorder_hierarchy.png)\n",
    "\n",
    "次のようにしてこの新しい階層を読み込みます：\n"
   ],
   "id": "d839a03fdd1504c8"
  },
  {
   "metadata": {
    "ExecuteTime": {
     "end_time": "2025-03-07T01:47:32.742614Z",
     "start_time": "2025-03-07T01:47:32.719766Z"
    }
   },
   "cell_type": "code",
   "source": "fault_data.read_cutting_hierarchy(\"./define_connections_data/central_gt1_5_hierarchy_edited.csv\")",
   "id": "c05faf80bf38c2ca",
   "outputs": [],
   "execution_count": 9
  },
  {
   "metadata": {},
   "cell_type": "markdown",
   "source": [
    "# メッシュ作成のためのシェープファイルの作成\n",
    "メッシュ作成前の最終ステップは、断層の三角メッシュ表現を作成するためにメッシュ作成ソフトウェアと組み合わせることができるファイルの作成です。\n",
    "これらの三角形の表面を複数のソフトウェアパッケージ（例えば、MOVE 3D）で構築することは可能ですが、以下の議論はLeapfrog Geoソフトウェアの使用を前提としています。\n",
    "\n",
    "## シェープファイルを保持するディレクトリの作成\n",
    "組織上の理由から、異なるシェープファイルを異なるディレクトリに配置することが役立ちます"
   ],
   "id": "822c3ad59022f7cc"
  },
  {
   "metadata": {
    "ExecuteTime": {
     "end_time": "2025-03-07T01:47:38.025032Z",
     "start_time": "2025-03-07T01:47:38.014065Z"
    }
   },
   "cell_type": "code",
   "source": [
    "for dir_name in [\"depth_contours\", \"traces\", \"footprints\", \"footprints_lines\"]:\n",
    "    if not os.path.exists(dir_name):\n",
    "        os.mkdir(dir_name)"
   ],
   "id": "dd588271c5701b90",
   "outputs": [],
   "execution_count": 10
  },
  {
   "metadata": {},
   "cell_type": "markdown",
   "source": "## シェープファイルの書き出し\n",
   "id": "d3a16d13dd0c5fe"
  },
  {
   "metadata": {
    "ExecuteTime": {
     "end_time": "2025-03-07T01:47:44.208029Z",
     "start_time": "2025-03-07T01:47:41.669393Z"
    }
   },
   "cell_type": "code",
   "source": [
    "for fault in fault_data.curated_faults:\n",
    "    # 深度等高線の生成\n",
    "    fault.generate_depth_contours(np.arange(2000, 32000., 2000.), smoothing=False)\n",
    "    # 等高線をファイルに書き出し\n",
    "    fault.contours.to_file(f\"depth_contours/{fault.name}_contours.shp\")\n",
    "    # トレースの書き出し\n",
    "    fault.nztm_trace_geoseries.to_file(f\"traces/{fault.name}_trace.shp\")\n",
    "\n",
    "# 断層フットプリントの書き出し\n",
    "for fault in reversed(fault_data.curated_faults):\n",
    "    fault.adjust_footprint()\n",
    "    fault.footprint_geoseries.to_file(f\"footprints/{fault.name}_footprint.shp\")\n",
    "    # Leapfrog Geoの新しいバージョンでは、断層フットプリントをラインとして書き出す必要があります\n",
    "    fault.footprint_geoseries.boundary.to_file(f\"footprints_lines/{fault.name}_footprint.shp\")"
   ],
   "id": "b68492c8a640bebd",
   "outputs": [],
   "execution_count": 11
  },
  {
   "metadata": {},
   "cell_type": "code",
   "outputs": [],
   "execution_count": null,
   "source": "",
   "id": "59275c193fa0ef7b"
  }
 ],
 "metadata": {
  "kernelspec": {
   "display_name": "Python 3",
   "language": "python",
   "name": "python3"
  },
  "language_info": {
   "codemirror_mode": {
    "name": "ipython",
    "version": 2
   },
   "file_extension": ".py",
   "mimetype": "text/x-python",
   "name": "python",
   "nbconvert_exporter": "python",
   "pygments_lexer": "ipython2",
   "version": "2.7.6"
  }
 },
 "nbformat": 4,
 "nbformat_minor": 5
}
