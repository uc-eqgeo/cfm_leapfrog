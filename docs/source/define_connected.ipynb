{
 "cells": [
  {
   "cell_type": "markdown",
   "id": "1b73d491",
   "metadata": {},
   "source": [
    "# Defining connected fault systems\n",
    "This notebook demonstrates how to identify which fault segments in a shapefile should be connected up into large fault systems.\n",
    "## Reading in faults\n",
    "First, you need to read in your GIS representation of faults. In this example, we use a subset of faults from the New Zealand Community Fault Model (Seebeck et al., 2022)."
   ]
  },
  {
   "cell_type": "code",
   "execution_count": 1,
   "id": "f42e46ec",
   "metadata": {},
   "outputs": [
    {
     "name": "stderr",
     "output_type": "stream",
     "text": [
      "missing expected field\n"
     ]
    },
    {
     "name": "stdout",
     "output_type": "stream",
     "text": [
      "Warning: missing expected field: (Depth_D90)\n"
     ]
    }
   ],
   "source": [
    "# Import modules \n",
    "from fault_mesh.faults.leapfrog import LeapfrogMultiFault\n",
    "from fault_mesh.faults.connected import ConnectedFaultSystem\n",
    "from fault_mesh.utilities.graph import connected_nodes\n",
    "\n",
    "# Read in fault data from shapefile\n",
    "fault_data = LeapfrogMultiFault.from_nz_cfm_shp(\"../gis/cfm_gt_1_5.gpkg\", remove_colons=True)"
   ]
  },
  {
   "cell_type": "code",
   "execution_count": null,
   "id": "7b431aa1",
   "metadata": {},
   "outputs": [],
   "source": []
  }
 ],
 "metadata": {
  "kernelspec": {
   "display_name": "Python 3 (ipykernel)",
   "language": "python",
   "name": "python3"
  },
  "language_info": {
   "codemirror_mode": {
    "name": "ipython",
    "version": 3
   },
   "file_extension": ".py",
   "mimetype": "text/x-python",
   "name": "python",
   "nbconvert_exporter": "python",
   "pygments_lexer": "ipython3",
   "version": "3.10.6"
  }
 },
 "nbformat": 4,
 "nbformat_minor": 5
}
